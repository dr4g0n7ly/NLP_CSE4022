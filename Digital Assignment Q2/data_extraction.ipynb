{
  "nbformat": 4,
  "nbformat_minor": 0,
  "metadata": {
    "colab": {
      "provenance": []
    },
    "kernelspec": {
      "name": "python3",
      "display_name": "Python 3"
    },
    "language_info": {
      "name": "python"
    }
  },
  "cells": [
    {
      "cell_type": "code",
      "execution_count": null,
      "metadata": {
        "colab": {
          "base_uri": "https://localhost:8080/"
        },
        "id": "wbQOPKRIjwmA",
        "outputId": "2492e4c8-9931-4b6e-96a0-0b577f63cd0b"
      },
      "outputs": [
        {
          "output_type": "stream",
          "name": "stdout",
          "text": [
            "Mounted at /content/drive\n"
          ]
        }
      ],
      "source": [
        "from google.colab import drive\n",
        "import zipfile\n",
        "import os\n",
        "\n",
        "# Mount Google Drive\n",
        "drive.mount('/content/drive')"
      ]
    },
    {
      "cell_type": "code",
      "source": [
        "%cd /content/drive/MyDrive/NLP\n",
        "!ls\n",
        "\n",
        "zip_file_name = 'v3.zip'\n",
        "\n",
        "extract_path = '/content/drive/MyDrive/NLP'\n",
        "\n",
        "# Unzip and view the contents\n",
        "with zipfile.ZipFile(zip_file_name, 'r') as zip_ref:\n",
        "    zip_ref.printdir()\n",
        "    zip_ref.extractall(extract_path)\n",
        "\n",
        "extracted_files = os.listdir(extract_path)\n",
        "print(\"Contents of the extracted directory:\")\n",
        "print(extracted_files)\n"
      ],
      "metadata": {
        "colab": {
          "base_uri": "https://localhost:8080/"
        },
        "id": "NNYXf-G1k0ym",
        "outputId": "96437d20-6440-45ae-da2b-c1c4cb8af0f5"
      },
      "execution_count": null,
      "outputs": [
        {
          "output_type": "stream",
          "name": "stdout",
          "text": [
            "/content/drive/MyDrive/NLP\n",
            "v3.zip\n",
            "File Name                                             Modified             Size\n",
            "v2/                                            2021-05-15 14:00:48            0\n",
            "v2/en-kn/                                      2021-05-15 13:53:38            0\n",
            "v2/en-kn/train.kn                              2021-05-15 14:10:04    625597778\n",
            "v2/en-kn/train.en                              2021-05-15 14:10:02    225137231\n",
            "v2/en-bn/                                      2021-05-15 13:50:00            0\n",
            "v2/en-bn/train.en                              2021-05-15 14:04:26    590453659\n",
            "v2/en-bn/train.bn                              2021-05-15 14:04:32   1494025234\n",
            "v2/en-as/                                      2021-05-15 13:49:58            0\n",
            "v2/en-as/train.as                              2021-05-15 14:02:34     23243174\n",
            "v2/en-as/train.en                              2021-05-15 14:02:34     10327928\n",
            "v2/en-ta/                                      2021-05-15 13:55:40            0\n",
            "v2/en-ta/train.ta                              2021-05-15 14:15:02   1090605836\n",
            "v2/en-ta/train.en                              2021-05-15 14:14:58    354079394\n",
            "v2/en-or/                                      2021-05-15 13:55:12            0\n",
            "v2/en-or/train.or                              2021-05-15 14:12:50    183312208\n",
            "v2/en-or/train.en                              2021-05-15 14:12:48     68411532\n",
            "v2/en-mr/                                      2021-05-15 13:54:50            0\n",
            "v2/en-mr/train.mr                              2021-05-15 14:12:34    636142032\n",
            "v2/en-mr/train.en                              2021-05-15 14:12:30    242539039\n",
            "v2/en-te/                                      2021-05-15 14:24:16            0\n",
            "v2/en-te/train.te                              2021-05-15 14:16:28    773618108\n",
            "v2/en-te/en-kn/                                2021-05-15 14:23:58            0\n",
            "v2/en-te/en-kn/train.kn                        2021-05-15 14:24:00    625597778\n",
            "v2/en-te/en-kn/train.en                        2021-05-15 14:23:58    225137231\n",
            "v2/en-te/en-bn/                                2021-05-15 14:23:32            0\n",
            "v2/en-te/en-bn/train.en                        2021-05-15 14:23:32    590453659\n",
            "v2/en-te/en-bn/train.bn                        2021-05-15 14:23:38   1494025234\n",
            "v2/en-te/en-as/                                2021-05-15 14:23:32            0\n",
            "v2/en-te/en-as/train.as                        2021-05-15 14:23:32     23243174\n",
            "v2/en-te/en-as/train.en                        2021-05-15 14:23:32     10327928\n",
            "v2/en-te/en-ta/                                2021-05-15 14:24:18            0\n",
            "v2/en-te/en-ta/train.ta                        2021-05-15 14:24:24   1090605836\n",
            "v2/en-te/en-ta/train.en                        2021-05-15 14:24:18    354079394\n",
            "v2/en-te/en-or/                                2021-05-15 14:24:12            0\n",
            "v2/en-te/en-or/train.or                        2021-05-15 14:24:12    183312208\n",
            "v2/en-te/en-or/train.en                        2021-05-15 14:24:12     68411532\n",
            "v2/en-te/en-mr/                                2021-05-15 14:24:08            0\n",
            "v2/en-te/en-mr/train.mr                        2021-05-15 14:24:12    636142032\n",
            "v2/en-te/en-mr/train.en                        2021-05-15 14:24:08    242539039\n",
            "v2/en-te/en-hi/                                2021-05-15 14:23:42            0\n",
            "v2/en-te/en-hi/train.hi                        2021-05-15 14:23:56   2455522801\n",
            "v2/en-te/en-hi/train.en                        2021-05-15 14:23:42   1000847966\n",
            "v2/en-te/en-pa/                                2021-05-15 14:24:14            0\n",
            "v2/en-te/en-pa/train.pa                        2021-05-15 14:24:16    587074653\n",
            "v2/en-te/en-pa/train.en                        2021-05-15 14:24:14    247344632\n",
            "v2/en-te/en-gu/                                2021-05-15 14:23:38            0\n",
            "v2/en-te/en-gu/train.gu                        2021-05-15 14:23:40    448906549\n",
            "v2/en-te/en-gu/train.en                        2021-05-15 14:23:38    186363556\n",
            "v2/en-te/en-ml/                                2021-05-15 14:24:02            0\n",
            "v2/en-te/en-ml/train.ml                        2021-05-15 14:24:08   1107061019\n",
            "v2/en-te/en-ml/train.en                        2021-05-15 14:24:02    355007935\n",
            "v2/en-te/train.en                              2021-05-15 14:16:24    278780585\n",
            "v2/en-hi/                                      2021-05-15 13:51:42            0\n",
            "v2/en-hi/train.hi                              2021-05-15 14:09:06   2455522801\n",
            "v2/en-hi/train.en                              2021-05-15 14:08:56   1000847966\n",
            "v2/en-pa/                                      2021-05-15 13:55:18            0\n",
            "v2/en-pa/train.pa                              2021-05-15 14:13:38    587074653\n",
            "v2/en-pa/train.en                              2021-05-15 14:13:34    247344632\n",
            "v2/en-gu/                                      2021-05-15 13:51:20            0\n",
            "v2/en-gu/train.gu                              2021-05-15 14:05:16    448906549\n",
            "v2/en-gu/train.en                              2021-05-15 14:05:10    186363556\n",
            "v2/en-ml/                                      2021-05-15 13:54:06            0\n",
            "v2/en-ml/train.ml                              2021-05-15 14:11:36   1107061019\n",
            "v2/en-ml/train.en                              2021-05-15 14:11:32    355007935\n",
            "Contents of the extracted directory:\n",
            "['v3.zip', 'v2']\n"
          ]
        }
      ]
    },
    {
      "cell_type": "code",
      "source": [],
      "metadata": {
        "id": "2mw2dKxNlPYV"
      },
      "execution_count": null,
      "outputs": []
    }
  ]
}